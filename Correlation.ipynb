{
 "cells": [
  {
   "attachments": {},
   "cell_type": "markdown",
   "metadata": {},
   "source": [
    "# Correlation: Finding Trends\n",
    "It is often useful to infer whether or not random variables are related to each other\n",
    "via correlation. For example, height and weight are quantities that present positive\n",
    "correlation for the human population. However, happiness and height are uncorrelated.\n",
    "There are measures other than correlation to detect similarities among variables, such\n",
    "as the mutual information, but correlation is simple and yet very useful. But correlation helps to indicate trends such as one quantity increasing when another one decreases.\n",
    "The correlation C for two complex-valued random variables X and Y is defined as\n",
    "$C = cor(X, Y) = \\mathbb{E}[XY^∗]$,\n",
    "where $^∗$ denotes the complex conjugate.\n",
    "\n",
    "Two real-valued random variables are called uncorrelated if, and only if, $cov(X, Y) = 0$,\n",
    "which is equivalent to\n",
    "$\\mathbb{E}[XY] = \\mu_{x}\\mu_{y}$."
   ]
  },
  {
   "cell_type": "code",
   "execution_count": null,
   "metadata": {},
   "outputs": [],
   "source": [
    "#I'd preffer a different introduction, there's not enough space for introducing statistics"
   ]
  },
  {
   "attachments": {},
   "cell_type": "markdown",
   "metadata": {},
   "source": [
    "## Autocorrelation function\n",
    "Autocorrelation functions are extension of the correlation concept to signals. There are different definitions for the autocorrelation function, depending on the signal under analysis. In this text, we will focus on the autocorrelation function(ACF) of finite-duration discrete-time signals, though many of the explored ideas can be extrapolated to other definitions.\n",
    "\n",
    "$$R_X[i] = \\sum_{n=i}^{N-1} x[n]x[n-i]$$\n",
    "As an alternative to use expressions more similar to the ones for signals with infinite\n",
    "duration, the (unscaled or not normalized) autocorrelation can be expressed as\n",
    "\n",
    "$$\\sum_{n}^{}x[n+i]x^*[n], \\quad i = -(N-1), \\ldots, -1, 0, 1, \\ldots, N-1$$\n",
    "\n",
    "and computed assuming a zero value for x[n] when its index is out of range. This corresponds to assuming the signal is extended with enough zeros (zero-padding) to the right and to the left. For example, assuming $x[n] = \\delta[n] + 2\\delta[n − 1] + 3\\delta[n − 2]$, which\n",
    "can be represented by the vector $[1, 2, 3]$, its autocorrelation would be $[3, 8, 14, 8, 3]$, for the lags $i = −2, −1, 0, 1, 2$, respectively. \n",
    "\n",
    "Notice that for each value of i, the  corresponding value of the correlation is equivalent to a scalar product between $x[n]$  and it's shifted version $x[n-i]$. Since the scalar product indicates similarity between vectors, the ACF can be interpreted as testing, through the scalar product, the similarity between a list and a shifted version of itself, peaking when the delayed list is most similar to its original version.\n"
   ]
  },
  {
   "attachments": {},
   "cell_type": "markdown",
   "metadata": {},
   "source": [
    "From the equation (index equations...), we can come up with a simple implementation for the correlation of two arrays. Notice that the output has indexes $i = 0,1,2 \\ldots$ which is not the case for every software implementation."
   ]
  },
  {
   "cell_type": "code",
   "execution_count": 14,
   "metadata": {},
   "outputs": [
    {
     "name": "stdout",
     "output_type": "stream",
     "text": [
      "x = [2, 3, 4, 5]\n",
      "Rx =  [54. 38. 23. 10.]\n"
     ]
    }
   ],
   "source": [
    "import numpy as np \n",
    "import matplotlib.pyplot as plt\n",
    "from numpy.random import randn\n",
    "\n",
    "x = [2,3,4,5]\n",
    "N = len(x)\n",
    "# Initialize and array to hold the values\n",
    "acorr = np.zeros(N)\n",
    "# Iterate over each value of i\n",
    "for i in range(N):\n",
    "    # Calculate the sum\n",
    "    for n in range(i,N):\n",
    "        acorr[i] +=x[n]*x[n-i]\n",
    "# Results\n",
    "print(\"x =\", x)\n",
    "print(\"Rx = \", acorr)\n",
    "\n"
   ]
  },
  {
   "attachments": {},
   "cell_type": "markdown",
   "metadata": {},
   "source": [
    "Note that the number of products decreases as $|i|$ increases. More specifically, when computing $R_{X} [i]$ there are only $N − |i|$ “valid” products. To cope with that, the normalized definition is \n",
    "$$R_X[i] = \\frac{1}{N - |i|} \\sum_{n} x[n + i]x^*[n], \\quad i = -(N - 1), \\ldots, N - 1$$\n",
    "Another observation of interest is that for real signals, $R_{X} [\\tau] = R_{X} [\\tau]$. In general, for complex-valued signals, $R_{X} [\\tau] = R^*_{X} [-\\tau]$, which is called Hermitian symmetry."
   ]
  },
  {
   "attachments": {},
   "cell_type": "markdown",
   "metadata": {},
   "source": [
    "In practice, the correlation is calculated by some software tool. follows an example for numpy's correlate function. Notice how it now has indices $i = \\ldots -1, 0, 1 \\ldots$"
   ]
  },
  {
   "cell_type": "code",
   "execution_count": 12,
   "metadata": {},
   "outputs": [
    {
     "name": "stdout",
     "output_type": "stream",
     "text": [
      "Rx = [10 23 38 54 38 23 10]\n",
      "Rx = [54 38 23 10]\n"
     ]
    }
   ],
   "source": [
    "np_acorr = np.correlate(x,x, mode='full')\n",
    "# Print with negative indexes\n",
    "print(\"Rx =\",np_acorr)\n",
    "# Print only non-negative indexes\n",
    "print(\"Rx =\",np_acorr[len(np_acorr)//2:])"
   ]
  },
  {
   "attachments": {},
   "cell_type": "markdown",
   "metadata": {},
   "source": [
    "## Cross-correlation\n",
    "The cross-correlation function (also called correlation) is very similar to the ACF but\n",
    "uses two distinct signals, being defined for discrete time energy signals as\n",
    "$$R_{xy}[l] = \\sum_{n=-\\infty}^{\\infty} x[n + l]y^*[n] = \\sum_{n=-\\infty}^{\\infty} x[n]y^*[n - l]\n",
    "$$\n",
    "Note the adopted convention with respect to the complex conjugate.\n",
    "Some important properties of the cross-correlation are:\n",
    "\n",
    "* $R_{xy}[\\tau] = R^*_{xy}[−\\tau ]$(Hermitian symmetry),\n",
    "* $R_{xy}[\\tau] = R∗_{yx}[−\\tau ]$ (swapping arguments is also Hermitian),\n",
    "* $|R_{xy}[\\tau]| ≤\\sqrt{R_{xx}(0)R_{yy}(0)}$, (maximum is not necessarily at τ = 0 but is bounded)."
   ]
  },
  {
   "attachments": {},
   "cell_type": "markdown",
   "metadata": {},
   "source": [
    "# Rewrite the following\n",
    "The power of a sum of signals is the sum of their powers in\n",
    "case they are uncorrelated. Assume that a sinusoid x[n] is contaminated by noise\n",
    "z[n] such that the noisy version of the signal is y[n] = x[n] + z[n]. The signal z[n] is a\n",
    "WGN (see Section 1.11.1) that is added to the signal of interest x[n] and, therefore,\n",
    "called additive white Gaussian noise (AWGN). If x[n] and z[n] are uncorrelated, such\n",
    "that Rxz [l] = E[x[n + l]z[n]] = 0, ∀l, the autocorrelation Ry[l] of y[n] is given by\n",
    "Ry[l] = E[y[n + l]y[n]] = E[(x[n + l] + z[n + l])(x[n] + z[n])]\n",
    "= Rx[l] + Rzx[l] + Rxz [l] + Rz [l]\n",
    "= Rx[l] + Rz [l].\n",
    "Listing 1.11 illustrates a practical use of this result. A sine with amplitude 4 V and\n",
    "power 42/2 = 8 W is contaminated by AWGN with power of 25 W. All signals are\n",
    "represented by 4,000 samples, such that the estimates are relatively accurate"
   ]
  },
  {
   "attachments": {},
   "cell_type": "markdown",
   "metadata": {},
   "source": [
    "## Power of a sum of uncorrelated signals\n",
    "For a signal $y[n] = x[n] + z[n]$, it's true that $R_y[l] = R_x[l] + R_z[l]$ if $x[n]$ and $z[n]$ are uncorrelated, that is $R_xz[l] = \\mathbb{E}[x[n+l]z[n]] = 0, \\forall l$. This can be demonstrated as.\n",
    "\\begin{align*}\n",
    "R_y[l] &= \\mathbb{E}[y[n+l]y[n]]\\\\\n",
    "       &= \\mathbb{E}[(x[n+l]+z[n+l])(x[n]+z[n])]\\\\\n",
    "       &= R_x[l] + R_zx[l]+R_xz[l] + R_z[l]\\\\\n",
    "       &= R_x[l] + R_z[l]\n",
    "\\end{align*}\n",
    "Now, from the equation for the ACF, we have\n",
    "$$R_X[i] = \\sum_{n=i}^{N-1} x[n]x[n-i]$$\n",
    "for $i = 0$\n",
    "$$R_X[0] = \\sum_{n=0}^{N-1} x[n]^2 = \\mathcal{E}_X$$\n",
    "where $\\mathcal{E}_X$ is the energy of the signal, finally\n",
    "$$\\mathcal{E}_y = \\mathcal{E}_x + \\mathcal{E}_z$$"
   ]
  },
  {
   "attachments": {},
   "cell_type": "markdown",
   "metadata": {},
   "source": [
    "An application of the previous arises in the following case. Consider a periodic signal contaminated by white noise (it's ACF equals an impulse in the origin) such that they are uncorrelated."
   ]
  },
  {
   "cell_type": "code",
   "execution_count": 35,
   "metadata": {},
   "outputs": [
    {
     "data": {
      "text/plain": [
       "<StemContainer object of 3 artists>"
      ]
     },
     "execution_count": 35,
     "metadata": {},
     "output_type": "execute_result"
    },
    {
     "data": {
      "image/png": "[encoded data removed]",
      "text/plain": [
       "<Figure size 640x480 with 1 Axes>"
      ]
     },
     "metadata": {},
     "output_type": "display_data"
    }
   ],
   "source": [
    "A = 4 # Cosine's amplitude\n",
    "noise_power = 25 # Power for the noise\n",
    "f = 2 # Cosine's frequency\n",
    "Fs = 20 # \"Sampling\" frequency\n",
    "W = 2*np.pi*f/Fs\n",
    "\n",
    "n = np.arange(4000)\n",
    "# Periodic signal\n",
    "x = A*np.cos(W*n)\n",
    "# Noise\n",
    "z = np.sqrt(noise_power)*randn(len(x))\n",
    "\n",
    "y = x+z\n",
    "# Observe a window of the signal\n",
    "plt.stem(y[:50])\n",
    "\n"
   ]
  },
  {
   "attachments": {},
   "cell_type": "markdown",
   "metadata": {},
   "source": [
    "We can see that the contaminated signal looks mostly like noise, being it difficult to point that the original, now lets take a look at its autocorrelation function"
   ]
  },
  {
   "cell_type": "code",
   "execution_count": 36,
   "metadata": {},
   "outputs": [
    {
     "data": {
      "text/plain": [
       "<StemContainer object of 3 artists>"
      ]
     },
     "execution_count": 36,
     "metadata": {},
     "output_type": "execute_result"
    },
    {
     "data": {
      "image/png": "[encoded data removed]",
      "text/plain": [
       "<Figure size 640x480 with 1 Axes>"
      ]
     },
     "metadata": {},
     "output_type": "display_data"
    }
   ],
   "source": [
    "Ry = np.correlate(y,y,mode='full')\n",
    "# Observe a window of Ry, taking into account the negative indexes\n",
    "l_boundary = len(Ry)//2 - 50\n",
    "r_boundary = len(Ry)//2 + 50\n",
    "plt.stem(Ry[l_boundary:r_boundary])"
   ]
  },
  {
   "attachments": {},
   "cell_type": "markdown",
   "metadata": {},
   "source": [
    "Now it becomes clear that our original signal was periodic, since its correlation is as well periodic, and the white noise contributes only to the huge spike resembling an impulse at the origin."
   ]
  },
  {
   "attachments": {},
   "cell_type": "markdown",
   "metadata": {},
   "source": [
    "## Cross-correlation for synchronization of signals\n",
    "Imagine a signal $x[n]$ is transmitted through a channel, becoming a delayed and distorted version $y[n]$. In order to find out what was the delay $x[n]$ experienced, the cross-correlation can be employed. If a part of x[n] is known, the cross-correlation can be employed to find its best match in $y[n]$. Modern modulation schemes employ more complicated sequences and techniques, but these are still based on the correlation."
   ]
  },
  {
   "cell_type": "code",
   "execution_count": 47,
   "metadata": {},
   "outputs": [
    {
     "name": "stdout",
     "output_type": "stream",
     "text": [
      "-3\n",
      "[1 2 3]\n",
      "[3 2 1 1 2 3]\n",
      "[ 3.  8. 14.  9.  7. 10. 12.  9.  0.  0.  0.]\n"
     ]
    },
    {
     "data": {
      "image/png": "[encoded data removed]",
      "text/plain": [
       "<Figure size 640x480 with 1 Axes>"
      ]
     },
     "metadata": {},
     "output_type": "display_data"
    }
   ],
   "source": [
    "x = np.arange(1,4)\n",
    "x2 = np.concatenate((x, np.zeros(3)))\n",
    "y = np.concatenate((np.flip(x),x))\n",
    "c = np.correlate(x2,y,mode='full')\n",
    "lags =np.arange(-len(x2) + 1, len(y))\n",
    "plt.stem(lags,c)\n",
    "L = lags[np.argmax(x)]\n",
    "print(L)\n",
    "print(x)\n",
    "print(y)\n",
    "print(c)"
   ]
  }
 ],
 "metadata": {
  "kernelspec": {
   "display_name": "spyder-env",
   "language": "python",
   "name": "python3"
  },
  "language_info": {
   "codemirror_mode": {
    "name": "ipython",
    "version": 3
   },
   "file_extension": ".py",
   "mimetype": "text/x-python",
   "name": "python",
   "nbconvert_exporter": "python",
   "pygments_lexer": "ipython3",
   "version": "3.9.16"
  },
  "orig_nbformat": 4
 },
 "nbformat": 4,
 "nbformat_minor": 2
}
